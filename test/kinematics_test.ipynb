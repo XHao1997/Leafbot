{
 "cells": [
  {
   "cell_type": "code",
   "execution_count": 1,
   "metadata": {
    "ExecuteTime": {
     "end_time": "2024-02-27T14:53:10.185562400Z",
     "start_time": "2024-02-27T14:53:09.483846400Z"
    }
   },
   "outputs": [],
   "source": [
    "#coding=utf-8\n",
    "import PyKDL as kdl\n",
    "import matplotlib.pyplot as plt\n",
    "from urdf_parser_py.urdf import URDF\n",
    "# from pykdl_utils.kdl_parser import kdl_tree_from_urdf_model\n",
    "import numpy as np\n",
    "from scipy.spatial.transform import Rotation as R\n",
    "import copy"
   ]
  },
  {
   "cell_type": "code",
   "execution_count": 1,
   "id": "d160b2d8",
   "metadata": {},
   "outputs": [
    {
     "ename": "",
     "evalue": "",
     "output_type": "error",
     "traceback": [
      "\u001b[1;31mThe Kernel crashed while executing code in the current cell or a previous cell. \n",
      "\u001b[1;31mPlease review the code in the cell(s) to identify a possible cause of the failure. \n",
      "\u001b[1;31mClick <a href='https://aka.ms/vscodeJupyterKernelCrash'>here</a> for more info. \n",
      "\u001b[1;31mView Jupyter <a href='command:jupyter.viewOutput'>log</a> for further details."
     ]
    }
   ],
   "source": [
    "#!/usr/bin/env   python3\n",
    "#coding=utf-8\n",
    "import   time\n",
    "from   Arm_Lib import Arm_Device\n",
    "\n",
    "#   创建机械臂对象\n",
    "Arm   = Arm_Device()\n",
    "time.sleep(.1)\n",
    "#让舵机归中直立状态\n",
    "Arm.Arm_serial_servo_write6(90,   90, 20, 90, 90, 160, 3000)\n",
    "time.sleep(4)"
   ]
  },
  {
   "cell_type": "code",
   "execution_count": 2,
   "metadata": {
    "ExecuteTime": {
     "end_time": "2024-02-27T13:29:34.985330500Z",
     "start_time": "2024-02-27T13:29:34.958764900Z"
    }
   },
   "outputs": [],
   "source": [
    "def get_urdf_parameter(joint_id,xml_obj):\n",
    "    \"\"\" get inertial data. \"\"\"\n",
    "    # mass = xml_obj.getElementsByTagName(\"mass\")[joint_id].getAttribute(\"value\")\n",
    "    rpy  = xml_obj.getElementsByTagName(\"joint\")[joint_id].getElementsByTagName(\"origin\")[0].getAttribute(\"rpy\").split(\" \")\n",
    "    rpy  = tuple([float(i) for i in rpy])\n",
    "    axis  = xml_obj.getElementsByTagName(\"joint\")[joint_id].getElementsByTagName(\"axis\")[0].getAttribute(\"xyz\").split(\" \")\n",
    "    axis  = np.array(axis,dtype=np.float32)\n",
    "    xyz  = xml_obj.getElementsByTagName(\"joint\")[joint_id].getElementsByTagName(\"origin\")[0].getAttribute(\"xyz\").split(\" \")\n",
    "    xyz  = np.array(xyz,dtype=np.float32)\n",
    "    data = [axis, rpy,xyz]\n",
    "    return data"
   ]
  },
  {
   "cell_type": "code",
   "execution_count": 3,
   "metadata": {
    "ExecuteTime": {
     "end_time": "2024-02-27T13:29:35.480070100Z",
     "start_time": "2024-02-27T13:29:35.453533200Z"
    },
    "jupyter": {
     "outputs_hidden": false
    }
   },
   "outputs": [],
   "source": [
    "# from urdf_parser_py.urdf import Robot\n",
    "\n",
    "def euler_to_quat(r, p, y):\n",
    "    sr, sp, sy = np.sin(r/2.0), np.sin(p/2.0), np.sin(y/2.0)\n",
    "    cr, cp, cy = np.cos(r/2.0), np.cos(p/2.0), np.cos(y/2.0)\n",
    "    return [sr*cp*cy - cr*sp*sy,\n",
    "            cr*sp*cy + sr*cp*sy,\n",
    "            cr*cp*sy - sr*sp*cy,\n",
    "            cr*cp*cy + sr*sp*sy]\n",
    "\n",
    "def urdf_pose_to_kdl_frame(pose):\n",
    "    pos = [0., 0., 0.]\n",
    "    rot = [0., 0., 0.]\n",
    "    if pose is not None:\n",
    "        if pose.position is not None:\n",
    "            pos = pose.position\n",
    "        if pose.rotation is not None:\n",
    "            rot = pose.rotation\n",
    "    return kdl.Frame(kdl.Rotation.Quaternion(*euler_to_quat(*rot)),\n",
    "                     kdl.Vector(*pos))\n",
    "\n",
    "def urdf_joint_to_kdl_joint(jnt):\n",
    "    origin_frame = urdf_pose_to_kdl_frame(jnt.origin)\n",
    "    if jnt.joint_type == 'fixed':\n",
    "        return kdl.Joint(jnt.name, kdl.Joint.Fixed)\n",
    "    axis = kdl.Vector(*jnt.axis)\n",
    "    if jnt.joint_type == 'revolute':\n",
    "        return kdl.Joint(jnt.name, origin_frame.p,\n",
    "                         origin_frame.M * axis, kdl.Joint.RotAxis)\n",
    "    if jnt.joint_type == 'continuous':\n",
    "        return kdl.Joint(jnt.name, origin_frame.p,\n",
    "                         origin_frame.M * axis, kdl.Joint.RotAxis)\n",
    "    if jnt.joint_type == 'prismatic':\n",
    "        return kdl.Joint(jnt.name, origin_frame.p,\n",
    "                         origin_frame.M * axis, kdl.Joint.TransAxis)\n",
    "    # prin \"Unknown joint type: %s.\" % jnt.joint_type\n",
    "    return kdl.Joint(jnt.name, kdl.Joint.Fixed)\n",
    "\n",
    "def urdf_inertial_to_kdl_rbi(i):\n",
    "    origin = urdf_pose_to_kdl_frame(i.origin)\n",
    "    rbi = kdl.RigidBodyInertia(i.mass, origin.p,\n",
    "                               kdl.RotationalInertia(i.inertia.ixx,\n",
    "                                                     i.inertia.iyy,\n",
    "                                                     i.inertia.izz,\n",
    "                                                     i.inertia.ixy,\n",
    "                                                     i.inertia.ixz,\n",
    "                                                     i.inertia.iyz))\n",
    "    return origin.M * rbi\n",
    "\n",
    "##\n",
    "# Returns a PyKDL.Tree generated from a urdf_parser_py.urdf.URDF object.\n",
    "def kdl_tree_from_urdf_model(urdf):\n",
    "    root = urdf.get_root()\n",
    "    tree = kdl.Tree(root)\n",
    "    def add_children_to_tree(parent):\n",
    "        if parent in urdf.child_map:\n",
    "            for joint, child_name in urdf.child_map[parent]:\n",
    "                child = urdf.link_map[child_name]\n",
    "                if child.inertial is not None:\n",
    "                    kdl_inert = urdf_inertial_to_kdl_rbi(child.inertial)\n",
    "                else:\n",
    "                    kdl_inert = kdl.RigidBodyInertia()\n",
    "                kdl_jnt = urdf_joint_to_kdl_joint(urdf.joint_map[joint])\n",
    "                kdl_origin = urdf_pose_to_kdl_frame(urdf.joint_map[joint].origin)\n",
    "                kdl_sgm = kdl.Segment(child_name, kdl_jnt,\n",
    "                                      kdl_origin, kdl_inert)\n",
    "                tree.addSegment(kdl_sgm, parent)\n",
    "                add_children_to_tree(child_name)\n",
    "    add_children_to_tree(root)\n",
    "    return tree"
   ]
  },
  {
   "cell_type": "code",
   "execution_count": 4,
   "metadata": {
    "ExecuteTime": {
     "end_time": "2024-02-27T13:29:37.804530100Z",
     "start_time": "2024-02-27T13:29:37.786541700Z"
    },
    "jupyter": {
     "outputs_hidden": false
    }
   },
   "outputs": [],
   "source": [
    "robot = URDF.from_xml_file(\"dofbot.urdf\")"
   ]
  },
  {
   "cell_type": "code",
   "execution_count": 5,
   "metadata": {
    "ExecuteTime": {
     "end_time": "2024-02-27T13:29:38.331074Z",
     "start_time": "2024-02-27T13:29:38.291081900Z"
    },
    "jupyter": {
     "outputs_hidden": false
    }
   },
   "outputs": [],
   "source": [
    "xml_string = robot.to_xml_string()\n",
    "# print(xml_string)\n",
    "tree = kdl_tree_from_urdf_model(robot)"
   ]
  },
  {
   "cell_type": "markdown",
   "metadata": {},
   "source": [
    "### Define necessary functions for IK test"
   ]
  },
  {
   "cell_type": "code",
   "execution_count": 6,
   "metadata": {
    "ExecuteTime": {
     "end_time": "2024-02-27T13:46:23.371395300Z",
     "start_time": "2024-02-27T13:46:23.348377300Z"
    },
    "jupyter": {
     "outputs_hidden": false
    }
   },
   "outputs": [],
   "source": [
    "def generate_random_pos(fk_solver):\n",
    "    q = kdl.JntArray(5)\n",
    "    q[0] = np.random.uniform(low=-np.pi, high=np.pi)\n",
    "    q[1] = np.random.uniform(low=-np.pi, high=np.pi)\n",
    "    q[2] = np.random.uniform(low=-np.pi, high=np.pi)\n",
    "    q[3] = np.random.uniform(low=-np.pi, high=np.pi)\n",
    "    q[4] = np.random.uniform(low=-np.pi, high=np.pi)\n",
    "    end_effector_pose = kdl.Frame()\n",
    "    \n",
    "    fk_solver.JntToCart(q, end_effector_pose)\n",
    "    R = np.random.uniform(low=-np.pi, high=np.pi)\n",
    "    P = np.random.uniform(low=-np.pi, high=np.pi)\n",
    "    Y = np.random.uniform(low=-np.pi, high=np.pi)\n",
    "    random_points = end_effector_pose.p\n",
    "    desired_pose = kdl.Frame(kdl.Rotation.RPY(R,P,Y), kdl.Vector(random_points[0],random_points[1],random_points[2]))\n",
    "    # print(end_effector_pose.p)\n",
    "    return desired_pose    \n",
    "def kdl_to_np(M):\n",
    "    result = None\n",
    "    if isinstance(M, type(kdl.Rotation())):\n",
    "        result = np.zeros([3,3])\n",
    "        for i in range(3):\n",
    "            for j in range(3):\n",
    "                result[i,j] = M[i,j]\n",
    "    elif isinstance(M, type(kdl.Frame())):\n",
    "        result = np.zeros([4,4])\n",
    "        R = M.M\n",
    "        p = M.p\n",
    "        for i in range(3):\n",
    "            for j in range(3):\n",
    "                result[i,j] = M[i,j]\n",
    "        for i, k in enumerate(p):\n",
    "            result[i,3] = k\n",
    "    else:\n",
    "        result = []\n",
    "        for v in M:\n",
    "            result.append(v)\n",
    "        result = np.array(result)\n",
    "    return result"
   ]
  },
  {
   "cell_type": "markdown",
   "metadata": {},
   "source": [
    "#### Test single pose "
   ]
  },
  {
   "cell_type": "code",
   "execution_count": 7,
   "metadata": {
    "ExecuteTime": {
     "end_time": "2024-02-27T14:43:19.724191400Z",
     "start_time": "2024-02-27T14:43:19.665200600Z"
    },
    "jupyter": {
     "outputs_hidden": false
    }
   },
   "outputs": [
    {
     "name": "stdout",
     "output_type": "stream",
     "text": [
      "0\n",
      "Solution found!\n",
      "-1.39094\n",
      "-1.39003\n",
      "-1.34957\n",
      " 2.73912\n",
      " 1.39094\n"
     ]
    }
   ],
   "source": [
    "chain = tree.getChain(\"base_link\", \"link5\")\n",
    "fk_solver = kdl.ChainFkSolverPos_recursive(chain)\n",
    "number_of_joints = chain.getNrOfJoints()\n",
    "q = kdl.JntArray(5)\n",
    "q[1] = np.pi/3\n",
    "q[2]  = np.pi/3\n",
    "# Create a frame to hold the end effector pose result\n",
    "end_effector_pose = kdl.Frame()\n",
    "\n",
    "# Calculate forward kinematics\n",
    "fk_solver.JntToCart(q, end_effector_pose)\n",
    "# Create the inverse kinematics solver\n",
    "\n",
    "ik_solver = kdl.ChainIkSolverPos_LMA(chain,eps=1e-5)\n",
    "\n",
    "# Desired end-effector pose\n",
    "\n",
    "desired_pose = kdl.Frame(kdl.Rotation.RPY(0, 0, 0), kdl.Vector(0.11, 0.02, 0.12))\n",
    "# Solution joint positions will be stored here\n",
    "solution = kdl.JntArray(number_of_joints)\n",
    "q_int = kdl.JntArray(5)\n",
    "q_int[0]  = -np.arctan2(desired_pose.p[0], desired_pose.p[1])\n",
    "# Calculate inverse kinematics\n",
    "status = ik_solver.CartToJnt(q_int, desired_pose, solution)\n",
    "\n",
    "print(status)\n",
    "if status >= 0:\n",
    "    print(\"Solution found!\") \n",
    "    # `solution` now contains the joint positions\n",
    "else:\n",
    "    print(\"No Solution\")\n",
    "    \n",
    "print(solution)"
   ]
  },
  {
   "cell_type": "code",
   "execution_count": 8,
   "id": "700ba631",
   "metadata": {},
   "outputs": [
    {
     "data": {
      "text/plain": [
       "-1.424724396459389e-07"
      ]
     },
     "execution_count": 8,
     "metadata": {},
     "output_type": "execute_result"
    }
   ],
   "source": [
    "end_effector_pose.p[0]"
   ]
  },
  {
   "cell_type": "code",
   "execution_count": 9,
   "id": "eae708b6",
   "metadata": {},
   "outputs": [
    {
     "data": {
      "text/plain": [
       "[[           1, 3.18109e-06,-5.50981e-06;\n",
       " -3.18109e-06,        -0.5,   -0.866025;\n",
       " -5.50981e-06,    0.866025,        -0.5]\n",
       "[-1.42472e-07,   -0.206381,    0.068713]]"
      ]
     },
     "execution_count": 9,
     "metadata": {},
     "output_type": "execute_result"
    }
   ],
   "source": [
    "kdl_to_np(end_effector_pose)\n",
    "end_effector_pose"
   ]
  },
  {
   "cell_type": "code",
   "execution_count": 10,
   "metadata": {
    "ExecuteTime": {
     "end_time": "2024-02-27T15:37:23.504332100Z",
     "start_time": "2024-02-27T15:37:23.462043600Z"
    },
    "jupyter": {
     "outputs_hidden": false
    }
   },
   "outputs": [],
   "source": [
    "solutions = []\n",
    "error_codes = []\n",
    "pos_diffs = []\n",
    "angle_diffs = []\n",
    "desired_pose_list = []"
   ]
  },
  {
   "cell_type": "code",
   "execution_count": 11,
   "metadata": {
    "ExecuteTime": {
     "end_time": "2024-02-27T15:37:24.659690800Z",
     "start_time": "2024-02-27T15:37:24.299317700Z"
    },
    "jupyter": {
     "outputs_hidden": false
    }
   },
   "outputs": [],
   "source": [
    "for i in range(1000):\n",
    "    desired_pose =  generate_random_pos(fk_solver)\n",
    "    desired_pose_list.append(desired_pose)\n",
    "    \n",
    "for desired_pose in desired_pose_list:\n",
    "    # Solution joint positions will be stored here\n",
    "    solution = kdl.JntArray(number_of_joints)\n",
    "    q_int = kdl.JntArray(5)\n",
    "    q_int[0]  = -np.arctan2(desired_pose.p[0], desired_pose.p[1])\n",
    "    # Calculate inverse kinematics\n",
    "    status = ik_solver.CartToJnt(q_int, desired_pose, solution)\n",
    "    end_effector_pose2 = kdl.Frame()\n",
    "    fk_solver.JntToCart(solution, end_effector_pose2)\n",
    "    \n",
    "    pos_diff = end_effector_pose2.p - desired_pose.p\n",
    "    pos_diff = np.array([pos_diff[0],pos_diff[1],pos_diff[2]])\n",
    "    R0 = desired_pose.M \n",
    "    R1 = end_effector_pose2.M\n",
    "    R0 = kdl_to_np(R0)\n",
    "    R1 = kdl_to_np(R1)\n",
    "    # Convert rotation matrices to axis-angle representation\n",
    "    r0 = R.from_matrix(R0).as_rotvec()\n",
    "    r1 = R.from_matrix(R1).as_rotvec()\n",
    "            \n",
    "    # Compute the angle between the two axes\n",
    "    angle = np.arccos(np.dot(r0, r1) / (np.linalg.norm(r0) * np.linalg.norm(r1)))\n",
    "    \n",
    "    # Convert angle to degrees (if needed)\n",
    "    angle_degrees = np.degrees(angle)\n",
    "    \n",
    "    # Convert angle to radians\n",
    "    angle_radians = np.deg2rad(angle_degrees)\n",
    "    \n",
    "    # Convert angle to the range [-pi/2, pi/2]\n",
    "    angle_mod = ((angle_radians + np.pi/2) % np.pi) - np.pi/2\n",
    "    \n",
    "    angle_diffs.append(abs(angle_mod))\n",
    "    pos_diffs.append(np.linalg.norm(pos_diff))\n",
    "    error_codes.append(status)\n",
    "    solutions.append(solution)\n",
    "    # pos_diff.append()\n",
    "# print(error_code)\n",
    "# print(solutions)\n",
    "# print(pos_diffs)"
   ]
  },
  {
   "cell_type": "code",
   "execution_count": 12,
   "metadata": {},
   "outputs": [
    {
     "data": {
      "text/plain": [
       "array([[ 0.4581098 , -0.86270952, -0.21416745],\n",
       "       [ 0.51827973,  0.06349312,  0.85285095],\n",
       "       [-0.72216447, -0.50169802,  0.47621168]])"
      ]
     },
     "execution_count": 12,
     "metadata": {},
     "output_type": "execute_result"
    }
   ],
   "source": [
    "R0"
   ]
  },
  {
   "cell_type": "code",
   "execution_count": 13,
   "metadata": {
    "ExecuteTime": {
     "end_time": "2024-02-27T15:18:19.429754400Z",
     "start_time": "2024-02-27T15:18:19.403764800Z"
    },
    "jupyter": {
     "outputs_hidden": false
    }
   },
   "outputs": [],
   "source": [
    "angle_check = np.array(angle_diffs) > np.pi/4\n",
    "pos_check = np.array(pos_diffs) > 0.005\n",
    "combined_check = np.logical_or(angle_check, pos_check)\n",
    "# Perform element-wise logical OR operation\n",
    "acceptable_angle_rate = 1-np.count_nonzero(angle_check)/len(angle_diffs)\n",
    "acceptable_pos_rate  = 1-np.count_nonzero(pos_check)/len(pos_diffs)\n",
    "acceptable_rate  = 1-np.count_nonzero(combined_check)/len(pos_diffs)\n"
   ]
  },
  {
   "cell_type": "code",
   "execution_count": 14,
   "metadata": {
    "ExecuteTime": {
     "end_time": "2024-02-27T15:37:27.988639800Z",
     "start_time": "2024-02-27T15:37:27.911019100Z"
    },
    "jupyter": {
     "outputs_hidden": false
    }
   },
   "outputs": [
    {
     "name": "stdout",
     "output_type": "stream",
     "text": [
      "acceptable angle rate:  0.867\n",
      "acceptable pos rate:  0.974\n",
      "acceptable rate:  0.846\n"
     ]
    }
   ],
   "source": [
    "print(\"acceptable angle rate: \", acceptable_angle_rate)\n",
    "print(\"acceptable pos rate: \", acceptable_pos_rate)\n",
    "print(\"acceptable rate: \", acceptable_rate)\n"
   ]
  },
  {
   "cell_type": "code",
   "execution_count": 15,
   "metadata": {
    "ExecuteTime": {
     "end_time": "2024-02-27T15:51:25.794572600Z",
     "start_time": "2024-02-27T15:51:25.292183300Z"
    },
    "jupyter": {
     "outputs_hidden": false
    },
    "scrolled": false
   },
   "outputs": [
    {
     "data": {
      "image/png": "[encoded data removed]",
      "text/plain": [
       "<Figure size 1000x1000 with 1 Axes>"
      ]
     },
     "metadata": {
      "needs_background": "light"
     },
     "output_type": "display_data"
    }
   ],
   "source": [
    "import numpy as np\n",
    "import matplotlib.pyplot as plt\n",
    "# Enable interactive plots\n",
    "%matplotlib inline\n",
    "from mpl_toolkits.mplot3d import Axes3D\n",
    "\n",
    "# Create a Matplotlib figure and 3D axis with adjusted size\n",
    "fig = plt.figure(figsize=(10, 10),dpi=100)\n",
    "ax = fig.add_subplot(111, projection='3d')\n",
    "\n",
    "# Define the position and direction vectors\n",
    "for desired_pose in desired_pose_list[:100]:\n",
    "    pos = np.array([desired_pose.p[0], desired_pose.p[1], desired_pose.p[2]])  # Position vector\n",
    "    rot = kdl_to_np(desired_pose.M)\n",
    "    rotvec = R.from_matrix(rot).as_rotvec()\n",
    "    direction = rotvec  # Direction vector\n",
    "    # Plot the position vector as a point\n",
    "    ax.scatter(pos[0], pos[1], pos[2], color='blue', s = 2,alpha=1)\n",
    "    # Plot the direction vector as an arrow starting from the position\n",
    "    ax.quiver(pos[0], pos[1], pos[2], direction[0], direction[1], direction[2], color='blue', length=0.012,linewidth=0.2)\n",
    "for index, solution in enumerate(solutions[:100]):\n",
    "    pose = kdl.Frame()\n",
    "    fk_solver.JntToCart(solution, pose)\n",
    "    pos = np.array([pose.p[0], pose.p[1], pose.p[2]])  # Position vector\n",
    "    rot = kdl_to_np(pose.M)\n",
    "    rotvec = R.from_matrix(rot).as_rotvec()\n",
    "    direction = rotvec  # Direction vector\n",
    "    # Plot the position vector as a point\n",
    "    if pos_diffs[index]<0.005 and angle_diffs[index]<np.pi/4:\n",
    "        ax.scatter(pos[0], pos[1], pos[2], color='green', s = 2,alpha=1)\n",
    "        # Plot the direction vector as an arrow starting from the position\n",
    "        ax.quiver(pos[0], pos[1], pos[2], direction[0], direction[1], direction[2], color='green', length=0.012,linewidth=0.5)\n",
    "    else:\n",
    "        ax.scatter(pos[0], pos[1], pos[2], color='red', s = 4,alpha=1)\n",
    "        # Plot the direction vector as an arrow starting from the position\n",
    "        ax.quiver(pos[0], pos[1], pos[2], direction[0], direction[1], direction[2], color='red', length=0.012,linewidth=0.5)\n",
    "# Set labels and title\n",
    "ax.set_xlabel('X')\n",
    "ax.set_ylabel('Y')\n",
    "ax.set_zlabel('Z')\n",
    "ax.set_title('Position and Direction Vector Visualization')\n",
    "\n",
    "# Set limits for better visualization (optional)\n",
    "ax.set_xlim(-0.35, 0.35)\n",
    "ax.set_ylim(-0.35, 0.35)\n",
    "ax.set_zlim(0, 0.4)\n",
    "\n",
    "# Show plot\n",
    "plt.show()\n"
   ]
  },
  {
   "cell_type": "markdown",
   "metadata": {},
   "source": [
    "### Interpolation algorithm"
   ]
  },
  {
   "cell_type": "code",
   "execution_count": 5,
   "metadata": {},
   "outputs": [],
   "source": [
    "from scipy.special import comb\n",
    "\n",
    "def bernstein_poly(i, n, t):\n",
    "    \"\"\"\n",
    "     The Bernstein polynomial of n, i as a function of t\n",
    "    \"\"\"\n",
    "\n",
    "    return comb(n, i) * ( t**(n-i) ) * (1 - t)**i\n",
    "\n",
    "\n",
    "def bezier_curve(points, nTimes=1000):\n",
    "    \"\"\"\n",
    "       Given a set of control points, return the\n",
    "       bezier curve defined by the control points.\n",
    "\n",
    "       points should be a list of lists, or list of tuples\n",
    "       such as [ [1,1], \n",
    "                 [2,3], \n",
    "                 [4,5], ..[Xn, Yn] ]\n",
    "        nTimes is the number of time steps, defaults to 1000\n",
    "\n",
    "        See http://processingjs.nihongoresources.com/bezierinfo/\n",
    "    \"\"\"\n",
    "\n",
    "    nPoints = len(points)\n",
    "    xPoints = np.array([p[0] for p in points])\n",
    "    yPoints = np.array([p[1] for p in points])\n",
    "\n",
    "    t = np.linspace(0.0, 1.0, nTimes)\n",
    "\n",
    "    polynomial_array = np.array([ bernstein_poly(i, nPoints-1, t) for i in range(0, nPoints)   ])\n",
    "\n",
    "    xvals = np.dot(xPoints, polynomial_array)\n",
    "    yvals = np.dot(yPoints, polynomial_array)\n",
    "\n",
    "    return xvals, yvals\n",
    "\n"
   ]
  },
  {
   "cell_type": "code",
   "execution_count": 17,
   "metadata": {},
   "outputs": [],
   "source": [
    "desired_pose = kdl.Frame(kdl.Rotation.RPY(-0.06938641, -0.00790558, -0.08723075), kdl.Vector(0.0092134,-0.13174949, 0.18))\n",
    "desired_pose2 = kdl.Frame(kdl.Rotation.RPY(-0.06938641, -0.00790558, 0), kdl.Vector(0.11, -0.13, 0.25))\n",
    "desired_pose3 = kdl.Frame(kdl.Rotation.RPY(0, np.pi/3, 0), kdl.Vector(0.15, 0.12, 0.20))\n",
    "desired_pose4 = kdl.Frame(kdl.Rotation.RPY(0, np.pi/3, 0), kdl.Vector(0.15, -0.12, 0.28))\n",
    "ik_solver = kdl.ChainIkSolverPos_LMA(chain, eps=1e-7,_maxiter = int(1e4),_eps_joints = 1e-6)\n",
    "start_pose = desired_pose\n",
    "end_pose = desired_pose2\n",
    "end_pose.M = desired_pose.M"
   ]
  },
  {
   "cell_type": "code",
   "execution_count": 18,
   "metadata": {},
   "outputs": [
    {
     "data": {
      "text/plain": [
       "-100"
      ]
     },
     "execution_count": 18,
     "metadata": {},
     "output_type": "execute_result"
    }
   ],
   "source": [
    "q_start =  kdl.JntArray(5)\n",
    "q_end = kdl.JntArray(5)\n",
    "q_int = kdl.JntArray(5)\n",
    "ik_solver.CartToJnt(q_int, start_pose, q_start)\n",
    "ik_solver.CartToJnt(q_int, end_pose, q_end)"
   ]
  },
  {
   "cell_type": "code",
   "execution_count": 19,
   "metadata": {},
   "outputs": [
    {
     "name": "stdout",
     "output_type": "stream",
     "text": [
      "[-0.06938641 -0.00790558 -0.08723075]\n"
     ]
    }
   ],
   "source": [
    "from scipy.spatial.transform import Rotation\n",
    "from scipy.spatial.transform import Slerp\n",
    "\n",
    "def interpolate_orientation(start_orientation, end_orientation, num_points):\n",
    "    start_rot = Rotation.from_matrix(start_orientation).as_euler('xyz')\n",
    "    end_rot = Rotation.from_matrix(end_orientation).as_euler('xyz')\n",
    "    print(start_rot)\n",
    "    key_rots = Rotation.from_euler('xyz', np.stack((start_rot, end_rot)))\n",
    "    \n",
    "    slerp = Slerp([0, 1], key_rots)\n",
    "    interpolated_rotations = slerp(np.linspace(0, 1, num_points))\n",
    "    orientations = interpolated_rotations.as_euler('xyz')\n",
    "\n",
    "    return orientations\n",
    "\n",
    "# Assuming start_pose.M and end_pose.M are rotation matrices\n",
    "start_rot = kdl_to_np(start_pose.M)\n",
    "end_rot = kdl_to_np(end_pose.M)\n",
    "num_points = 100  # Example number of intermediate orientations\n",
    "\n",
    "ori_intermediate = interpolate_orientation(start_rot, end_rot, num_points)\n"
   ]
  },
  {
   "cell_type": "code",
   "execution_count": 20,
   "metadata": {},
   "outputs": [],
   "source": [
    "start_position = start_pose.p\n",
    "end_position = end_pose.p\n",
    "x0,y0,z0 = start_position\n",
    "x1,y1,z1 = end_position\n",
    "\n",
    "# Number of intermediate points (including the endpoints)\n",
    "num_points = 10\n",
    "\n",
    "# Generate intermediate x, y, z values using linear interpolation\n",
    "x_intermediate = np.linspace(x0, x1, num_points)\n",
    "y_intermediate = np.linspace(y0, y1, num_points)\n",
    "z_intermediate = np.linspace(z0, z1, num_points)\n",
    "\n",
    "line_intermediate = np.column_stack((x_intermediate,y_intermediate,z_intermediate))\n",
    "q_int = kdl.JntArray(5)\n",
    "q_prev = q_int\n",
    "q_current = kdl.JntArray(5)\n",
    "q_intermediate = np.zeros((num_points, 5))\n"
   ]
  },
  {
   "cell_type": "code",
   "execution_count": 21,
   "metadata": {},
   "outputs": [],
   "source": [
    "pose_intermediate = []\n",
    "q_intermediate = []\n",
    "for i in range(num_points):\n",
    "    R,P,Y = ori_intermediate[i]\n",
    "    x,y,z = line_intermediate[i]\n",
    "    desired_pose = kdl.Frame(kdl.Rotation.RPY(R,P,Y), kdl.Vector(x,y,z))\n",
    "    rot = kdl_to_np(desired_pose.M)\n",
    "    pos = kdl_to_np(desired_pose.p)\n",
    "    pose = np.append(rot,pos).reshape(4,3)\n",
    "    pose_intermediate.append(desired_pose)\n",
    "    \n",
    "    \n",
    "for i, pos in enumerate(pose_intermediate):    \n",
    "#     q_int = q_prev\n",
    "    ik_solver.CartToJnt(q_prev, pos, q_current)\n",
    "    q_intermediate.append(kdl_to_np(q_current))\n",
    "    q_prev = q_current\n",
    "q_intermediate = np.asarray(q_intermediate)    "
   ]
  },
  {
   "cell_type": "code",
   "execution_count": 29,
   "id": "f8241d34",
   "metadata": {},
   "outputs": [
    {
     "data": {
      "text/plain": [
       "array([-0.06938641, -0.00790558, -0.08723075])"
      ]
     },
     "execution_count": 29,
     "metadata": {},
     "output_type": "execute_result"
    }
   ],
   "source": [
    "rotation_matrix = kdl_to_np(start_pose.M)\n",
    "r =  Rotation.from_matrix(rotation_matrix)\n",
    "angles = r.as_euler(\"xyz\",degrees=False)\n",
    "# angles = r.as_rotvec()\n",
    "angles"
   ]
  },
  {
   "cell_type": "code",
   "execution_count": 82,
   "metadata": {},
   "outputs": [
    {
     "data": {
      "image/png": "[encoded data removed]",
      "text/plain": [
       "<Figure size 720x864 with 10 Axes>"
      ]
     },
     "metadata": {
      "needs_background": "light"
     },
     "output_type": "display_data"
    }
   ],
   "source": [
    "import numpy as np\n",
    "import matplotlib.pyplot as plt\n",
    "q_smooth_list = []\n",
    "# Assuming q_intermediate contains the joint positions of the 5 joints\n",
    "# Each row represents the joint positions at a specific time step\n",
    "# Each column represents the position of a joint in 3D space (x, y, z)\n",
    "# Shape of q_intermediate should be (num_points, num_joints, 3)\n",
    "num_points, num_joints = q_intermediate.shape\n",
    "\n",
    "# Create a figure with 5 subplots arranged horizontally\n",
    "fig, axs = plt.subplots(num_joints,2, figsize=(10, 12))  # Adjust figsize as needed\n",
    "# Plot the positions of the joints in each subplot\n",
    "n_times = int(1e3)\n",
    "for i, ax in enumerate(axs):\n",
    "    ax[0].scatter(range(num_points), q_intermediate[:, i]*180/np.pi,label='joint'+str(i),s=10)\n",
    "    q_smooth = np.flip(bezier_curve(np.column_stack((np.arange(num_points),q_intermediate[:,i])),nTimes=n_times)[1])    \n",
    "    ax[1].scatter(range(n_times), q_smooth*180/np.pi,label='joint'+str(i),s=1,color='r')\n",
    "    q_smooth_list.append(q_smooth)     \n",
    "ax[0].set_title(f'Joint {i+1}')\n",
    "ax[1].set_title(f'Joint {i+1} Smooth')\n",
    "\n",
    "#     ax.set_xlabel('Time Step')\n",
    "ax[0].set_ylabel('angle in radians')\n",
    "    \n",
    "\n",
    "# Adjust layout and show plot\n",
    "plt.tight_layout()\n",
    "plt.show()"
   ]
  },
  {
   "cell_type": "code",
   "execution_count": 128,
   "metadata": {
    "scrolled": false
   },
   "outputs": [],
   "source": [
    "# fig = plt.figure(figsize=(10, 10), dpi=10)\n",
    "# ax = fig.add_subplot(111, projection='3d')\n",
    "\n",
    "\n",
    "# # Plot intermediate poses\n",
    "# for i in range(n_times):\n",
    "#     solution = kdl.JntArray(5)\n",
    "#     solution[0] = np.array(q_smooth_list).T[i][0]\n",
    "#     solution[1] = np.array(q_smooth_list).T[i][1]\n",
    "#     solution[2] = np.array(q_smooth_list).T[i][2]\n",
    "#     solution[3] = np.array(q_smooth_list).T[i][3]\n",
    "#     solution[4] = np.array(q_smooth_list).T[i][4]\n",
    "    \n",
    "#     end_effector_pose = kdl.Frame()\n",
    "#     fk_solver.JntToCart(solution, end_effector_pose)\n",
    "    \n",
    "#     pos = kdl_to_np(end_effector_pose.p)\n",
    "#     rot = kdl_to_np(end_effector_pose.M)\n",
    "#     rotvec = Rotation.from_matrix(rot).as_rotvec()\n",
    "#     direction = (rotvec)  # Direction vector\n",
    "#     # Plot the position vector as a point\n",
    "#     ax.scatter(pos[0], pos[1], pos[2], color='blue')\n",
    "\n",
    "# # Set labels and title\n",
    "# ax.set_xlabel('X')\n",
    "# ax.set_ylabel('Y')\n",
    "# ax.set_zlabel('Z')\n",
    "# ax.set_title('Position and Direction Vector Visualization')\n",
    "\n",
    "# # # Set limits for better visualization (optional)\n",
    "# # ax.set_xlim(-0.35, 0.35)\n",
    "# # ax.set_ylim(-0.35, 0.35)\n",
    "# # ax.set_zlim(0, 0.4)\n",
    "# plt.tight_layout()\n",
    "# # Show plot\n",
    "# plt.show()\n"
   ]
  },
  {
   "cell_type": "code",
   "execution_count": 83,
   "metadata": {},
   "outputs": [],
   "source": [
    "#!/usr/bin/env python3\n",
    "#coding=utf-8\n",
    "import time\n",
    "from Arm_Lib import Arm_Device\n",
    "import math\n",
    "# Get DOFBOT object\n",
    "Arm = Arm_Device()\n",
    "time.sleep(.1)\n",
    "import numpy as np\n",
    "def move(solution,speed):\n",
    "    s1 = solution[0]\n",
    "    s2 = solution[1]\n",
    "    s3 = solution[2]\n",
    "    s4 = solution[3]\n",
    "    s5 = solution[4]\n",
    "#     s6 = solution[5]\n",
    "    Arm.Arm_serial_servo_write6(s1, s2, s3, s4, s5, 180, speed)   \n",
    "#     Arm.Arm_serial_servo_write(5, s4, 4000)\n",
    "# solution = np.rad2deg(np.array([-7.611595525802034e-07 , -1.4295786783796354 , -1.1532132390028922 , 0.9975928272716723 , 1.570261909573396]))\n",
    "Arm.Arm_serial_servo_write6(90, 90, 90, 90, 90, 180, 2000)"
   ]
  },
  {
   "cell_type": "code",
   "execution_count": 84,
   "metadata": {},
   "outputs": [],
   "source": [
    "solution = np.zeros((5))\n",
    "solution[0] = np.array(q_smooth_list).T[0][0]\n",
    "solution[1] = np.array(q_smooth_list).T[0][1]\n",
    "solution[2] = np.array(q_smooth_list).T[0][2]\n",
    "solution[3] = np.array(q_smooth_list).T[0][3]\n",
    "solution[4] = np.array(q_smooth_list).T[0][4]"
   ]
  },
  {
   "cell_type": "code",
   "execution_count": 85,
   "metadata": {},
   "outputs": [],
   "source": [
    "# np.rad2deg(solution)\n",
    "solution = np.rad2deg(solution)\n",
    "solution = np.round(solution)+90\n",
    "\n"
   ]
  },
  {
   "cell_type": "code",
   "execution_count": 86,
   "metadata": {},
   "outputs": [],
   "source": [
    "def is_beyond_limit(joints):\n",
    "    flag = True\n",
    "    for joint in joints:\n",
    "        if -45<=joint<=240:\n",
    "            flag = False\n",
    "        else:\n",
    "            flag = True\n",
    "            break\n",
    "    return flag\n",
    "        "
   ]
  },
  {
   "cell_type": "code",
   "execution_count": 87,
   "metadata": {},
   "outputs": [
    {
     "data": {
      "text/plain": [
       "False"
      ]
     },
     "execution_count": 87,
     "metadata": {},
     "output_type": "execute_result"
    }
   ],
   "source": [
    "is_beyond_limit(solution)"
   ]
  },
  {
   "cell_type": "code",
   "execution_count": 90,
   "id": "da5e55c0",
   "metadata": {},
   "outputs": [
    {
     "data": {
      "text/plain": [
       "array([130., 155.,  90.,  39.,  44.])"
      ]
     },
     "execution_count": 90,
     "metadata": {},
     "output_type": "execute_result"
    }
   ],
   "source": [
    "solution"
   ]
  },
  {
   "cell_type": "code",
   "execution_count": 128,
   "metadata": {},
   "outputs": [
    {
     "name": "stdout",
     "output_type": "stream",
     "text": [
      "done\n"
     ]
    }
   ],
   "source": [
    "Arm.Arm_serial_servo_write6(90, 90, 90, 90, 90, 180, 500)\n",
    "time.sleep(2)\n",
    "joints_for_cali =[]\n",
    "\n",
    "for i in range(n_times):\n",
    "    if not is_beyond_limit(solution):\n",
    "        if i%10==0:  \n",
    "            solution = np.zeros((5))\n",
    "            solution[0] = np.array(q_smooth_list).T[i][0]\n",
    "            solution[1] = np.array(q_smooth_list).T[i][1]\n",
    "            solution[2] = np.array(q_smooth_list).T[i][2]\n",
    "            solution[3] = np.array(q_smooth_list).T[i][3]\n",
    "            solution[4] = np.array(q_smooth_list).T[i][4] \n",
    "            solution = np.rad2deg(solution)\n",
    "            solution = np.round(solution)+90\n",
    "            joints_for_cali.append(solution)\n",
    "            if i == 0:\n",
    "                move(solution,1000)\n",
    "                time.sleep(3.2)\n",
    "            else:\n",
    "                move(solution,4)\n",
    "\n",
    "            time.sleep((4.0+1e-20)/1000)\n",
    "        \n",
    "    else:\n",
    "        break\n",
    "print('done')\n",
    "\n",
    "time.sleep(1)\n",
    "# Arm.Arm_serial_servo_write(6, 180, 500)\n",
    "Arm.Arm_serial_servo_write6(90, 90, 90, 90, 90, 180, 1000)"
   ]
  },
  {
   "cell_type": "code",
   "execution_count": 129,
   "metadata": {},
   "outputs": [],
   "source": [
    "joints_for_cali = np.array(joints_for_cali)[::15]"
   ]
  },
  {
   "cell_type": "code",
   "execution_count": 130,
   "metadata": {},
   "outputs": [],
   "source": [
    "len(joints_for_cali)\n",
    "np.save('joints_lists_for_cali',joints_for_cali)"
   ]
  },
  {
   "cell_type": "code",
   "execution_count": 131,
   "metadata": {},
   "outputs": [
    {
     "name": "stdout",
     "output_type": "stream",
     "text": [
      "[ 94. 145. 161. -40.  81.]\n",
      "[100. 142. 158. -34.  75.]\n",
      "[107. 142. 151. -26.  69.]\n",
      "[112. 143. 140. -17.  63.]\n",
      "[118. 148. 124.  -5.  57.]\n",
      "[123. 154. 105.  11.  52.]\n",
      "[127. 156.  92.  28.  47.]\n"
     ]
    }
   ],
   "source": [
    "for i in joints_for_cali:\n",
    "    print(i)"
   ]
  },
  {
   "cell_type": "code",
   "execution_count": 104,
   "metadata": {},
   "outputs": [
    {
     "data": {
      "text/plain": [
       "array([ 94.00006844, 145.16063546, 160.79954126, -39.94725225,\n",
       "        80.99200681])"
      ]
     },
     "execution_count": 104,
     "metadata": {},
     "output_type": "execute_result"
    }
   ],
   "source": [
    "np.rad2deg(joints_for_cali)[0]"
   ]
  },
  {
   "cell_type": "code",
   "execution_count": 163,
   "metadata": {},
   "outputs": [
    {
     "name": "stdout",
     "output_type": "stream",
     "text": [
      "False\n",
      "False\n",
      "False\n",
      "False\n",
      "False\n",
      "False\n",
      "False\n",
      "False\n",
      "False\n",
      "False\n",
      "False\n",
      "False\n",
      "False\n",
      "False\n",
      "False\n",
      "False\n",
      "False\n",
      "False\n",
      "False\n",
      "False\n",
      "Joint positions recorded in 'joint_positions.csv'\n"
     ]
    }
   ],
   "source": [
    "import csv\n",
    "joints_list = []\n",
    "# Generating random joint positions\n",
    "np.random.seed(42)\n",
    "zero_joint_position = np.array([120, 130, 135, 10, 60, 180])\n",
    "\n",
    "for i in range(20):\n",
    "    current_joint_position = zero_joint_position + np.random.randint(-10, 5, size=6)\n",
    "    print(is_beyond_limit(current_joint_position))\n",
    "    if not is_beyond_limit(current_joint_position):\n",
    "        move(current_joint_position, 500)\n",
    "        time.sleep(10.1)\n",
    "    joints_list.append(current_joint_position)  # Append current joint position to the list\n",
    "\n",
    "# Writing joint positions to CSV file\n",
    "with open('joint_positions.csv', 'w', newline='') as csvfile:\n",
    "    writer = csv.writer(csvfile)\n",
    "    writer.writerow(['Joint1', 'Joint2', 'Joint3', 'Joint4', 'Joint5', 'Joint6'])  # Writing header\n",
    "    writer.writerows(joints_list)  # Writing all joint positions\n",
    "\n",
    "print(\"Joint positions recorded in 'joint_positions.csv'\")"
   ]
  },
  {
   "cell_type": "code",
   "execution_count": 7,
   "metadata": {},
   "outputs": [
    {
     "data": {
      "text/plain": [
       "-100"
      ]
     },
     "execution_count": 7,
     "metadata": {},
     "output_type": "execute_result"
    }
   ],
   "source": [
    "from module.robot import Robot\n",
    "import numpy as np\n",
    "import os\n",
    "import time\n",
    "import copy\n",
    "import joblib\n",
    "\n",
    "robot = Robot()\n",
    "robot.initialize_robot()\n",
    "xyz = robot.coodinate_cam2robot(np.array([[    80.727,      149.83 ,     581.94]]))\n",
    "# base_joint_position = np.array([30, 90, 90, 90, 90, 185])\n",
    "desired_position = {'XYZ':xyz,\n",
    "                    'RPY':[-np.pi/2, 0,0]}\n",
    "# robot.move_servo_by(5, 90)\n",
    "# time.sleep(0.1)\n",
    "# robot.move_gripper(55)\n",
    "\n",
    "robot.move_to(desired_position,speed=2000,offset=5)\n",
    "\n",
    "# time.sleep(1)\n",
    "# robot.move_gripper(150)\n"
   ]
  },
  {
   "cell_type": "markdown",
   "id": "2ad65f75",
   "metadata": {},
   "source": [
    "### Test motion planning"
   ]
  },
  {
   "cell_type": "code",
   "execution_count": 1,
   "id": "004e97fe",
   "metadata": {},
   "outputs": [
    {
     "data": {
      "text/plain": [
       "1"
      ]
     },
     "execution_count": 1,
     "metadata": {},
     "output_type": "execute_result"
    }
   ],
   "source": [
    "#coding=utf-8\n",
    "import PyKDL as kdl\n",
    "import matplotlib.pyplot as plt\n",
    "from urdf_parser_py.urdf import URDF\n",
    "# from pykdl_utils.kdl_parser import kdl_tree_from_urdf_model\n",
    "import numpy as np\n",
    "from scipy.spatial.transform import Rotation as R\n",
    "import copy\n",
    "from module.robot import Robot\n",
    "import numpy as np\n",
    "import os\n",
    "import time\n",
    "import copy\n",
    "import joblib\n",
    "\n",
    "\n",
    "robot = Robot()\n",
    "robot.initialize_robot()\n",
    "\n",
    "# robot.move_to_zero_position()\n",
    "robot.update_joints_list()\n",
    "\n",
    "f = robot.solve_fk_by(robot.get_joints_list(),option='kdl')\n",
    "f_end = kdl.Frame(kdl.Rotation.RPY(0,0,0), kdl.Vector(-0.0, -0.0, 0.03))\n",
    "start_pose = {'XYZ':f.p,\n",
    "              'RPY':f.M.GetRPY()}\n",
    "end_pose = start_pose\n",
    "end_pose['XYZ'] = (f*f_end).p\n",
    "robot.move_to(end_pose)\n",
    "q_intermediate = robot.plan_straight_trajectory(start_pose=end_pose, end_pose=start_pose)\n",
    "robot.move_along_trajectory(q_intermediate)\n"
   ]
  },
  {
   "cell_type": "code",
   "execution_count": 13,
   "id": "21e805e0",
   "metadata": {},
   "outputs": [
    {
     "data": {
      "text/plain": [
       "1"
      ]
     },
     "execution_count": 13,
     "metadata": {},
     "output_type": "execute_result"
    }
   ],
   "source": [
    "import copy\n",
    "f = robot.solve_fk_by(robot.get_joints_list(),option='kdl')\n",
    "f_end = kdl.Frame(kdl.Rotation.RPY(0,0,0), kdl.Vector(-0.0, -0.0, -0.03))\n",
    "start_pose = {'XYZ':f.p,\n",
    "              'RPY':f.M.GetRPY()}\n",
    "end_pose = copy.deepcopy(start_pose)\n",
    "end_pose['XYZ'] = (f*f_end).p\n",
    "robot.move_to(end_pose)\n",
    "robot.update_joints_list()\n",
    "# robot.move_to_zero_position()\n",
    "q_intermediate = robot.plan_straight_trajectory(start_pose=end_pose, end_pose=start_pose)\n",
    "robot.move_along_trajectory(q_intermediate)\n"
   ]
  },
  {
   "cell_type": "code",
   "execution_count": 2,
   "id": "0d119c34",
   "metadata": {},
   "outputs": [],
   "source": [
    "xyz = robot.coodinate_cam2robot(np.array([[    80.727,      149.83 ,     581.94]]))\n",
    "# base_joint_position = np.array([30, 90, 90, 90, 90, 185])\n",
    "desired_position = {'XYZ':xyz,\n",
    "                    'RPY':[-np.pi/2, 0,0]}\n",
    "solution, status = robot.solve_ik_by_euler(desired_position['RPY'],desired_position['XYZ'])\n",
    "f = robot.solve_fk_by(robot.radius_to_servo_degree(robot.kdl_to_np(solution)),option='kdl')\n"
   ]
  },
  {
   "cell_type": "code",
   "execution_count": 4,
   "id": "937270a3",
   "metadata": {},
   "outputs": [
    {
     "data": {
      "text/plain": [
       "1"
      ]
     },
     "execution_count": 4,
     "metadata": {},
     "output_type": "execute_result"
    }
   ],
   "source": [
    "\n",
    "robot.move_to_zero_position()\n",
    "desired_position = {'XYZ':xyz,\n",
    "                    'RPY':[-np.pi/2, 0,0]}\n",
    "solution, status = robot.solve_ik_by_euler(desired_position['RPY'],desired_position['XYZ'])\n",
    "def last_pick(solution):\n",
    "    f = robot.solve_fk_by(robot.radius_to_servo_degree(robot.kdl_to_np(solution),offset=3),option='kdl')\n",
    "    start_pose = {'XYZ':f.p,\n",
    "                'RPY':f.M.GetRPY()}\n",
    "    end_pose = copy.deepcopy(start_pose)\n",
    "    f_end = kdl.Frame(kdl.Rotation.RPY(0,0,0), kdl.Vector(-0.0, -0.0, -0.03))\n",
    "    f_start = kdl.Frame(kdl.Rotation.RPY(0,0,0), kdl.Vector(-0.0, -0.0, 0.01))\n",
    "    end_pose['XYZ'] = (f*f_end).p\n",
    "    start_pose['XYZ'] = (f*f_start).p\n",
    "    # robot.move_to(end_pose)\n",
    "    # robot.update_joints_list()\n",
    "    # robot.move_to_zero_position()\n",
    "    q_intermediate = robot.plan_straight_trajectory(start_pose=end_pose, end_pose=start_pose)\n",
    "    robot.move_along_trajectory(q_intermediate)"
   ]
  },
  {
   "cell_type": "code",
   "execution_count": 21,
   "id": "02f14bc7",
   "metadata": {},
   "outputs": [],
   "source": [
    "solution = robot.radius_to_servo_degree(robot.kdl_to_np(solution))"
   ]
  },
  {
   "cell_type": "code",
   "execution_count": 22,
   "id": "48daa58a",
   "metadata": {},
   "outputs": [
    {
     "data": {
      "text/plain": [
       "array([66.28149815, 88.74364738, 89.9853804 ,  3.76454632, 90.52348073])"
      ]
     },
     "execution_count": 22,
     "metadata": {},
     "output_type": "execute_result"
    }
   ],
   "source": [
    "solution"
   ]
  },
  {
   "cell_type": "code",
   "execution_count": 47,
   "id": "6047dfb3",
   "metadata": {},
   "outputs": [
    {
     "ename": "",
     "evalue": "",
     "output_type": "error",
     "traceback": [
      "\u001b[1;31mThe Kernel crashed while executing code in the current cell or a previous cell. \n",
      "\u001b[1;31mPlease review the code in the cell(s) to identify a possible cause of the failure. \n",
      "\u001b[1;31mClick <a href='https://aka.ms/vscodeJupyterKernelCrash'>here</a> for more info. \n",
      "\u001b[1;31mView Jupyter <a href='command:jupyter.viewOutput'>log</a> for further details."
     ]
    }
   ],
   "source": [
    "# robot.move_to_zero_position()\n",
    "robot.update_joints_list()\n",
    "\n",
    "f = robot.solve_fk_by(robot.get_joints_list(),option='kdl')\n",
    "f_end = kdl.Frame(kdl.Rotation.RPY(0, 0 ,0), kdl.Vector(0.03, -0.0, -0.0))\n",
    "start_pose = {'XYZ':f.p,\n",
    "              'RPY':f.M.GetRPY()}\n",
    "end_pose = start_pose\n",
    "end_pose['XYZ'] = (f*f_end).p\n",
    "q_intermediate = robot.plan_straight_trajectory(start_pose=start_pose,end_pose=end_pose)\n",
    "robot.move_along_trajectory(q_intermediate,offset = 0)\n",
    "robot.update_joints_list()"
   ]
  },
  {
   "cell_type": "code",
   "execution_count": 36,
   "id": "eae30580",
   "metadata": {},
   "outputs": [],
   "source": [
    "robot.move_servo_by(4,0)"
   ]
  },
  {
   "cell_type": "code",
   "execution_count": 8,
   "id": "38edb759",
   "metadata": {},
   "outputs": [
    {
     "data": {
      "text/plain": [
       "array([[ 3.12417156, -1.51881056,  1.53582102,  1.57132444, -3.15903194],\n",
       "       [ 3.12417156, -1.51881056,  1.53582102,  1.57132444, -3.15903194],\n",
       "       [ 3.12417156, -1.51881056,  1.53582102,  1.57132444, -3.15903194],\n",
       "       [ 3.12417156, -1.51881056,  1.53582102,  1.57132444, -3.15903194],\n",
       "       [ 3.12417156, -1.51881056,  1.53582102,  1.57132444, -3.15903194],\n",
       "       [ 3.12417156, -1.51881056,  1.53582102,  1.57132444, -3.15903194],\n",
       "       [ 3.12417156, -1.51881056,  1.53582102,  1.57132444, -3.15903194],\n",
       "       [ 3.12417156, -1.51881056,  1.53582102,  1.57132444, -3.15903194],\n",
       "       [ 3.12417156, -1.51881056,  1.53582102,  1.57132444, -3.15903194],\n",
       "       [ 3.12417156, -1.51881056,  1.53582102,  1.57132444, -3.15903194]])"
      ]
     },
     "execution_count": 8,
     "metadata": {},
     "output_type": "execute_result"
    }
   ],
   "source": [
    "q_intermediate"
   ]
  },
  {
   "cell_type": "code",
   "execution_count": null,
   "id": "e294cab8",
   "metadata": {},
   "outputs": [],
   "source": []
  }
 ],
 "metadata": {
  "kernelspec": {
   "display_name": "Python 3",
   "language": "python",
   "name": "python3"
  },
  "language_info": {
   "codemirror_mode": {
    "name": "ipython",
    "version": 3
   },
   "file_extension": ".py",
   "mimetype": "text/x-python",
   "name": "python",
   "nbconvert_exporter": "python",
   "pygments_lexer": "ipython3",
   "version": "3.8.10"
  },
  "toc": {
   "base_numbering": 1,
   "nav_menu": {},
   "number_sections": true,
   "sideBar": true,
   "skip_h1_title": false,
   "title_cell": "Table of Contents",
   "title_sidebar": "Contents",
   "toc_cell": false,
   "toc_position": {},
   "toc_section_display": true,
   "toc_window_display": false
  },
  "varInspector": {
   "cols": {
    "lenName": 16,
    "lenType": 16,
    "lenVar": 40
   },
   "kernels_config": {
    "python": {
     "delete_cmd_postfix": "",
     "delete_cmd_prefix": "del ",
     "library": "var_list.py",
     "varRefreshCmd": "print(var_dic_list())"
    },
    "r": {
     "delete_cmd_postfix": ") ",
     "delete_cmd_prefix": "rm(",
     "library": "var_list.r",
     "varRefreshCmd": "cat(var_dic_list()) "
    }
   },
   "types_to_exclude": [
    "module",
    "function",
    "builtin_function_or_method",
    "instance",
    "_Feature"
   ],
   "window_display": false
  }
 },
 "nbformat": 4,
 "nbformat_minor": 5
}
